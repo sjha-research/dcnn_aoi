{
 "cells": [
  {
   "cell_type": "code",
   "execution_count": null,
   "metadata": {
    "_cell_guid": "b1076dfc-b9ad-4769-8c92-a6c4dae69d19",
    "_uuid": "8f2839f25d086af736a60e9eeb907d3b93b6e0e5",
    "execution": {
     "iopub.execute_input": "2025-02-09T08:25:32.192450Z",
     "iopub.status.busy": "2025-02-09T08:25:32.191949Z",
     "iopub.status.idle": "2025-02-09T08:25:37.420131Z",
     "shell.execute_reply": "2025-02-09T08:25:37.419184Z",
     "shell.execute_reply.started": "2025-02-09T08:25:32.192392Z"
    }
   },
   "outputs": [],
   "source": [
    "!pip install torchinfo"
   ]
  },
  {
   "cell_type": "code",
   "execution_count": null,
   "metadata": {
    "execution": {
     "iopub.execute_input": "2025-02-09T08:25:37.421883Z",
     "iopub.status.busy": "2025-02-09T08:25:37.421558Z",
     "iopub.status.idle": "2025-02-09T08:25:43.185274Z",
     "shell.execute_reply": "2025-02-09T08:25:43.184471Z",
     "shell.execute_reply.started": "2025-02-09T08:25:37.421846Z"
    }
   },
   "outputs": [],
   "source": [
    "import torch\n",
    "import torchvision\n",
    "import torch.nn as nn\n",
    "from torchvision import datasets, transforms\n",
    "from torch.utils.data import DataLoader\n",
    "import os\n",
    "from sklearn.model_selection import StratifiedKFold\n",
    "from tqdm.auto import tqdm\n",
    "from typing import List, Dict, Tuple\n",
    "from sklearn.metrics import precision_score, recall_score, f1_score\n",
    "import numpy as np"
   ]
  },
  {
   "cell_type": "code",
   "execution_count": null,
   "metadata": {
    "execution": {
     "iopub.execute_input": "2025-02-09T08:25:43.187945Z",
     "iopub.status.busy": "2025-02-09T08:25:43.187447Z",
     "iopub.status.idle": "2025-02-09T08:25:43.243819Z",
     "shell.execute_reply": "2025-02-09T08:25:43.242646Z",
     "shell.execute_reply.started": "2025-02-09T08:25:43.187905Z"
    }
   },
   "outputs": [],
   "source": [
    "device = \"cuda\" if torch.cuda.is_available() else \"cpu\"\n",
    "print(device)"
   ]
  },
  {
   "cell_type": "code",
   "execution_count": null,
   "metadata": {
    "execution": {
     "iopub.execute_input": "2025-02-09T08:25:43.245749Z",
     "iopub.status.busy": "2025-02-09T08:25:43.245471Z",
     "iopub.status.idle": "2025-02-09T08:25:44.770026Z",
     "shell.execute_reply": "2025-02-09T08:25:44.769121Z",
     "shell.execute_reply.started": "2025-02-09T08:25:43.245725Z"
    }
   },
   "outputs": [],
   "source": [
    "# For Trainable Layer\n",
    "pretrained_efficientnet_weights = torchvision.models.EfficientNet_V2_S_Weights.DEFAULT\n",
    "\n",
    "# 2. Setup EfficientNet model instance with pretrained weights\n",
    "pretrained_efficientnet = torchvision.models.efficientnet_v2_s(weights=pretrained_efficientnet_weights).to(device)\n",
    "\n",
    "# 3. Freeze the base parameters (optional - set to True as in your ViT example)\n",
    "for parameter in pretrained_efficientnet.parameters():\n",
    "    parameter.requires_grad = False\n",
    "# for parameter in pretrained_efficientnet.parameters():\n",
    "#     parameter.requires_grad = False\n",
    "\n",
    "# # Unfreeze parameters in the last two layers (classifier)\n",
    "# for parameter in pretrained_efficientnet.features[8].parameters():\n",
    "#     parameter.requires_grad = True\n",
    "\n",
    "# 4. Change the classifier head\n",
    "class_names = ['defective', 'non-defective']\n",
    "pretrained_efficientnet.classifier = nn.Sequential(\n",
    "    nn.Dropout(p=0.2),\n",
    "    nn.Linear(in_features=1280, out_features=32),   \n",
    "    nn.ReLU(),\n",
    "    nn.Dropout(p=0.2),\n",
    "    nn.Linear(in_features=32, out_features=1),\n",
    "    nn.Sigmoid()\n",
    ").to(device)"
   ]
  },
  {
   "cell_type": "code",
   "execution_count": null,
   "metadata": {
    "execution": {
     "iopub.execute_input": "2025-02-09T08:25:44.771592Z",
     "iopub.status.busy": "2025-02-09T08:25:44.771215Z",
     "iopub.status.idle": "2025-02-09T08:25:45.811164Z",
     "shell.execute_reply": "2025-02-09T08:25:45.810092Z",
     "shell.execute_reply.started": "2025-02-09T08:25:44.771555Z"
    }
   },
   "outputs": [],
   "source": [
    "# from torchinfo import summary\n",
    "# summary(model=pretrained_efficientnet,\n",
    "#         input_size=(32, 3, 224, 224),\n",
    "#         col_names=[\"input_size\", \"output_size\", \"num_params\", \"trainable\"],\n",
    "#         col_width=20,\n",
    "#         row_settings=[\"var_names\"])"
   ]
  },
  {
   "cell_type": "code",
   "execution_count": null,
   "metadata": {
    "execution": {
     "iopub.execute_input": "2025-02-09T08:25:45.812773Z",
     "iopub.status.busy": "2025-02-09T08:25:45.812387Z",
     "iopub.status.idle": "2025-02-09T08:25:45.817880Z",
     "shell.execute_reply": "2025-02-09T08:25:45.816974Z",
     "shell.execute_reply.started": "2025-02-09T08:25:45.812736Z"
    }
   },
   "outputs": [],
   "source": [
    "pretrained_efficientnet_transforms = pretrained_efficientnet_weights.transforms()\n",
    "print(pretrained_efficientnet_transforms)\n"
   ]
  },
  {
   "cell_type": "code",
   "execution_count": null,
   "metadata": {
    "execution": {
     "iopub.execute_input": "2025-02-09T08:25:45.819492Z",
     "iopub.status.busy": "2025-02-09T08:25:45.819122Z",
     "iopub.status.idle": "2025-02-09T08:25:45.835690Z",
     "shell.execute_reply": "2025-02-09T08:25:45.834656Z",
     "shell.execute_reply.started": "2025-02-09T08:25:45.819457Z"
    }
   },
   "outputs": [],
   "source": [
    "# For Full DataSet\n",
    "# NUM_WORKERS = os.cpu_count()\n",
    "\n",
    "# def create_dataloaders_with_cross_validation(\n",
    "#     dataset_dir: str,\n",
    "#     transform: transforms.Compose,\n",
    "#     batch_size: int,\n",
    "#     num_splits: int = 5,\n",
    "#     num_workers: int = NUM_WORKERS\n",
    "# ):\n",
    "#     # Use ImageFolder to create the dataset\n",
    "#     full_dataset = datasets.ImageFolder(dataset_dir, transform=transform)\n",
    "\n",
    "#     # Initialize StratifiedKFold for cross-validation\n",
    "#     skf = StratifiedKFold(n_splits=num_splits, shuffle=True, random_state=42)\n",
    "\n",
    "#     # Initialize lists to store train and test data loaders for each split\n",
    "#     train_dataloaders = []\n",
    "#     test_dataloaders = []\n",
    "\n",
    "#     # Get class names\n",
    "#     class_names = full_dataset.classes\n",
    "\n",
    "#     for train_indices, test_indices in skf.split(full_dataset.imgs, full_dataset.targets):\n",
    "#         # Create train and test datasets for the current split\n",
    "#         train_dataset = torch.utils.data.Subset(full_dataset, train_indices)\n",
    "#         test_dataset = torch.utils.data.Subset(full_dataset, test_indices)\n",
    "\n",
    "#         # Turn images into data loaders\n",
    "#         train_dataloader = DataLoader(\n",
    "#             train_dataset,\n",
    "#             batch_size=batch_size,\n",
    "#             shuffle=True,\n",
    "#             num_workers=num_workers,\n",
    "#             pin_memory=True,\n",
    "#         )\n",
    "#         test_dataloader = DataLoader(\n",
    "#             test_dataset,\n",
    "#             batch_size=batch_size,\n",
    "#             shuffle=False,\n",
    "#             num_workers=num_workers,\n",
    "#             pin_memory=True,\n",
    "#         )\n",
    "\n",
    "#         train_dataloaders.append(train_dataloader)\n",
    "#         test_dataloaders.append(test_dataloader)\n",
    "\n",
    "#     return train_dataloaders, test_dataloaders, class_names"
   ]
  },
  {
   "cell_type": "code",
   "execution_count": null,
   "metadata": {
    "execution": {
     "iopub.execute_input": "2025-02-09T08:25:45.836942Z",
     "iopub.status.busy": "2025-02-09T08:25:45.836630Z",
     "iopub.status.idle": "2025-02-09T08:25:45.857154Z",
     "shell.execute_reply": "2025-02-09T08:25:45.856262Z",
     "shell.execute_reply.started": "2025-02-09T08:25:45.836908Z"
    }
   },
   "outputs": [],
   "source": [
    "#For Half Dataset\n",
    "NUM_WORKERS = os.cpu_count()\n",
    "def create_dataloaders_with_cross_validation(\n",
    "    dataset_dir: str,\n",
    "    transform: transforms.Compose,\n",
    "    batch_size: int,\n",
    "    sampling_ratio: float = 0.5,  # Added sampling ratio parameter\n",
    "    num_splits: int = 5,\n",
    "    num_workers: int = NUM_WORKERS\n",
    "):\n",
    "    # Use ImageFolder to create the dataset\n",
    "    full_dataset = datasets.ImageFolder(dataset_dir, transform=transform)\n",
    "    \n",
    "    # Get indices for each class\n",
    "    class_indices = {i: [] for i in range(len(full_dataset.classes))}\n",
    "    for idx, (_, label) in enumerate(full_dataset):\n",
    "        class_indices[label].append(idx)\n",
    "    \n",
    "    # Randomly sample indices from each class\n",
    "    sampled_indices = []\n",
    "    for class_idx, indices in class_indices.items():\n",
    "        n_samples = int(len(indices) * sampling_ratio)\n",
    "        sampled_indices.extend(np.random.choice(indices, size=n_samples, replace=False))\n",
    "    \n",
    "    # Shuffle the sampled indices\n",
    "    np.random.shuffle(sampled_indices)\n",
    "    \n",
    "    # Create a subset of the dataset with only sampled indices\n",
    "    sampled_dataset = torch.utils.data.Subset(full_dataset, sampled_indices)\n",
    "    sampled_targets = [full_dataset.targets[i] for i in sampled_indices]\n",
    "    \n",
    "    print(f\"Original dataset size: {len(full_dataset)}\")\n",
    "    print(f\"Sampled dataset size: {len(sampled_dataset)} ({sampling_ratio*100}%)\")\n",
    "    \n",
    "    # Initialize StratifiedKFold for cross-validation\n",
    "    skf = StratifiedKFold(n_splits=num_splits, shuffle=True, random_state=42)\n",
    "    # Initialize lists to store train and test data loaders for each split\n",
    "    train_dataloaders = []\n",
    "    test_dataloaders = []\n",
    "    # Get class names\n",
    "    class_names = full_dataset.classes\n",
    "    \n",
    "    for train_indices, test_indices in skf.split(range(len(sampled_dataset)), sampled_targets):\n",
    "        # Create train and test datasets for the current split\n",
    "        train_dataset = torch.utils.data.Subset(sampled_dataset, train_indices)\n",
    "        test_dataset = torch.utils.data.Subset(sampled_dataset, test_indices)\n",
    "        # Turn images into data loaders\n",
    "        train_dataloader = DataLoader(\n",
    "            train_dataset,\n",
    "            batch_size=batch_size,\n",
    "            shuffle=True,\n",
    "            num_workers=num_workers,\n",
    "            pin_memory=True,\n",
    "        )\n",
    "        test_dataloader = DataLoader(\n",
    "            test_dataset,\n",
    "            batch_size=batch_size,\n",
    "            shuffle=False,\n",
    "            num_workers=num_workers,\n",
    "            pin_memory=True,\n",
    "        )\n",
    "        train_dataloaders.append(train_dataloader)\n",
    "        test_dataloaders.append(test_dataloader)\n",
    "    return train_dataloaders, test_dataloaders, class_names\n"
   ]
  },
  {
   "cell_type": "code",
   "execution_count": null,
   "metadata": {
    "execution": {
     "iopub.execute_input": "2025-02-09T08:25:45.859844Z",
     "iopub.status.busy": "2025-02-09T08:25:45.859573Z",
     "iopub.status.idle": "2025-02-09T08:25:45.880433Z",
     "shell.execute_reply": "2025-02-09T08:25:45.879336Z",
     "shell.execute_reply.started": "2025-02-09T08:25:45.859822Z"
    }
   },
   "outputs": [],
   "source": [
    "from google.colab import drive\n",
    "drive.mount(\"/content/gdrive\")\n",
    "dataset_dir = \"/content/gdrive/MyDrive/Colab Notebooks/CMID/\" "
   ]
  },
  {
   "cell_type": "code",
   "execution_count": null,
   "metadata": {
    "execution": {
     "iopub.execute_input": "2025-02-09T08:25:45.881835Z",
     "iopub.status.busy": "2025-02-09T08:25:45.881566Z",
     "iopub.status.idle": "2025-02-09T08:25:48.502111Z",
     "shell.execute_reply": "2025-02-09T08:25:48.500899Z",
     "shell.execute_reply.started": "2025-02-09T08:25:45.881812Z"
    }
   },
   "outputs": [],
   "source": [
    "# For Full Dataset\n",
    "# train_dataloader_pretrained, test_dataloader_pretrained, class_names = create_dataloaders_with_cross_validation(\n",
    "#     dataset_dir=dataset_dir,\n",
    "#     transform=pretrained_efficientnet_transforms,\n",
    "#     batch_size=32,\n",
    "#     num_splits=5\n",
    "# )"
   ]
  },
  {
   "cell_type": "code",
   "execution_count": null,
   "metadata": {
    "execution": {
     "iopub.execute_input": "2025-02-09T08:25:48.503541Z",
     "iopub.status.busy": "2025-02-09T08:25:48.503168Z",
     "iopub.status.idle": "2025-02-09T08:25:48.507910Z",
     "shell.execute_reply": "2025-02-09T08:25:48.506385Z",
     "shell.execute_reply.started": "2025-02-09T08:25:48.503506Z"
    }
   },
   "outputs": [],
   "source": [
    "# For Half Dataset\n",
    "train_dataloader_pretrained, test_dataloader_pretrained, class_names = create_dataloaders_with_cross_validation(\n",
    "    dataset_dir=dataset_dir,\n",
    "    transform=pretrained_efficientnet_transforms,\n",
    "    batch_size=32,\n",
    "    sampling_ratio=0.5,  # Use 50% of the data\n",
    "    num_splits=5\n",
    ")"
   ]
  },
  {
   "cell_type": "code",
   "execution_count": null,
   "metadata": {
    "execution": {
     "iopub.execute_input": "2025-02-09T08:25:48.509644Z",
     "iopub.status.busy": "2025-02-09T08:25:48.509286Z",
     "iopub.status.idle": "2025-02-09T08:25:48.528529Z",
     "shell.execute_reply": "2025-02-09T08:25:48.527387Z",
     "shell.execute_reply.started": "2025-02-09T08:25:48.509609Z"
    }
   },
   "outputs": [],
   "source": []
  },
  {
   "cell_type": "code",
   "execution_count": null,
   "metadata": {
    "execution": {
     "iopub.execute_input": "2025-02-09T08:25:48.529917Z",
     "iopub.status.busy": "2025-02-09T08:25:48.529621Z",
     "iopub.status.idle": "2025-02-09T08:25:48.551192Z",
     "shell.execute_reply": "2025-02-09T08:25:48.550001Z",
     "shell.execute_reply.started": "2025-02-09T08:25:48.529891Z"
    }
   },
   "outputs": [],
   "source": [
    "def train_step(model: torch.nn.Module,\n",
    "               dataloader: torch.utils.data.DataLoader,\n",
    "               loss_fn: torch.nn.Module,\n",
    "               optimizer: torch.optim.Optimizer,\n",
    "               device: torch.device) -> Tuple[float, float]:\n",
    "    \"\"\"Performs one epoch of training.\"\"\"\n",
    "    model.train()\n",
    "    train_loss = 0\n",
    "    correct = 0\n",
    "    total = 0\n",
    "\n",
    "    for batch, (X, y) in enumerate(dataloader):\n",
    "        X, y = X.to(device), y.to(device)\n",
    "\n",
    "        # Forward pass\n",
    "        y_pred = model(X)\n",
    "        loss = loss_fn(y_pred.squeeze(1), y.type(torch.float32))  \n",
    "        train_loss += loss.item()\n",
    "\n",
    "        # Backward pass and optimization\n",
    "        optimizer.zero_grad()\n",
    "        loss.backward()\n",
    "        optimizer.step()\n",
    "\n",
    "        # Accuracy calculation\n",
    "        y_pred_class = (y_pred.squeeze(1) > 0.5).float()\n",
    "        correct += (y_pred_class == y).sum().item()\n",
    "        total += y.size(0)\n",
    "\n",
    "    train_loss /= len(dataloader)\n",
    "    train_acc = correct / total\n",
    "    return train_loss, train_acc\n",
    "\n",
    "def test_step(model: torch.nn.Module,\n",
    "              dataloader: torch.utils.data.DataLoader,\n",
    "              loss_fn: torch.nn.Module,\n",
    "              device: torch.device) -> Tuple[float, float, List[int], List[int]]:\n",
    "    \"\"\"Performs one epoch of evaluation.\"\"\"\n",
    "    model.eval()\n",
    "    test_loss = 0\n",
    "    correct = 0\n",
    "    total = 0\n",
    "    all_labels, all_preds = [], []\n",
    "\n",
    "    with torch.inference_mode():\n",
    "        for batch, (X, y) in enumerate(dataloader):\n",
    "            X, y = X.to(device), y.to(device)\n",
    "\n",
    "            # Forward pass\n",
    "            y_pred = model(X)\n",
    "            loss = loss_fn(y_pred.squeeze(1), y.type(torch.float32))  \n",
    "            test_loss += loss.item()\n",
    "\n",
    "            # Predictions and accuracy\n",
    "            y_pred_class = (y_pred.squeeze(1) > 0.5).float()\n",
    "            correct += (y_pred_class == y).sum().item()\n",
    "            total += y.size(0)\n",
    "\n",
    "            # Collect labels and predictions for precision/recall/F1\n",
    "            all_labels.extend(y.cpu().tolist())\n",
    "            all_preds.extend(y_pred_class.cpu().tolist())\n",
    "\n",
    "    test_loss /= len(dataloader)\n",
    "    test_acc = correct / total\n",
    "    return test_loss, test_acc, all_labels, all_preds\n",
    "    \n",
    "def train_with_cross_validation(model: torch.nn.Module,\n",
    "                              train_dataloaders: List[torch.utils.data.DataLoader],\n",
    "                              test_dataloaders: List[torch.utils.data.DataLoader],\n",
    "                              optimizer: torch.optim.Optimizer,\n",
    "                              loss_fn: torch.nn.Module,\n",
    "                              epochs: int,\n",
    "                              device: torch.device) -> List[Dict[str, List]]:\n",
    "    \"\"\"Trains a model with cross-validation and computes metrics.\"\"\"\n",
    "    all_results = []\n",
    "\n",
    "    for split in range(len(train_dataloaders)):\n",
    "        results = {\"train_loss\": [], \"train_acc\": [],\n",
    "                  \"test_loss\": [], \"test_acc\": [],\n",
    "                  \"precision\": [], \"recall\": [], \"f1\": []}\n",
    "        model.to(device)\n",
    "\n",
    "        for epoch in tqdm(range(epochs)):\n",
    "            train_loss, train_acc = train_step(model, train_dataloaders[split], loss_fn, optimizer, device)\n",
    "            test_loss, test_acc, all_labels, all_preds = test_step(model, test_dataloaders[split], loss_fn, device)\n",
    "\n",
    "            # Calculate precision, recall, and F1 score\n",
    "            precision = precision_score(all_labels, all_preds, average=\"weighted\")\n",
    "            recall = recall_score(all_labels, all_preds, average=\"weighted\")\n",
    "            f1 = f1_score(all_labels, all_preds, average=\"weighted\")\n",
    "\n",
    "            # Log results\n",
    "            print(\n",
    "                f\"Split: {split+1} | Epoch: {epoch+1} | \"\n",
    "                f\"train_loss: {train_loss:.4f} | train_acc: {train_acc:.4f} | \"\n",
    "                f\"test_loss: {test_loss:.4f} | test_acc: {test_acc:.4f} | \"\n",
    "                f\"precision: {precision:.4f} | recall: {recall:.4f} | f1: {f1:.4f}\"\n",
    "            )\n",
    "\n",
    "            # Store results\n",
    "            results[\"train_loss\"].append(train_loss)\n",
    "            results[\"train_acc\"].append(train_acc)\n",
    "            results[\"test_loss\"].append(test_loss)\n",
    "            results[\"test_acc\"].append(test_acc)\n",
    "            results[\"precision\"].append(precision)\n",
    "            results[\"recall\"].append(recall)\n",
    "            results[\"f1\"].append(f1)\n",
    "\n",
    "        # Calculate mean metrics for this split\n",
    "        mean_precision = np.mean(results[\"precision\"])\n",
    "        mean_recall = np.mean(results[\"recall\"])\n",
    "        mean_f1 = np.mean(results[\"f1\"])\n",
    "        print(f\"Split {split+1} Mean Metrics - Precision: {mean_precision:.4f}, Recall: {mean_recall:.4f}, F1: {mean_f1:.4f}\")\n",
    "\n",
    "        all_results.append(results)\n",
    "\n",
    "    return all_results"
   ]
  },
  {
   "cell_type": "code",
   "execution_count": null,
   "metadata": {
    "execution": {
     "execution_failed": "2025-02-09T08:29:01.003Z",
     "iopub.execute_input": "2025-02-09T08:25:48.552561Z",
     "iopub.status.busy": "2025-02-09T08:25:48.552187Z"
    }
   },
   "outputs": [],
   "source": [
    "optimizer = torch.optim.Adam(params=pretrained_efficientnet.parameters(),\n",
    "                           lr=1e-3)\n",
    "loss_fn = nn.BCELoss()\n",
    "\n",
    "# Train the model\n",
    "pretrained_efficientnet_results = train_with_cross_validation(\n",
    "    model=pretrained_efficientnet,\n",
    "    train_dataloaders=train_dataloader_pretrained,\n",
    "    test_dataloaders=test_dataloader_pretrained,\n",
    "    optimizer=optimizer,\n",
    "    loss_fn=loss_fn,\n",
    "    epochs=100,\n",
    "    device=device\n",
    ")"
   ]
  }
 ],
 "metadata": {
  "kaggle": {
   "accelerator": "gpu",
   "dataSources": [
    {
     "datasetId": 4137925,
     "sourceId": 7163592,
     "sourceType": "datasetVersion"
    }
   ],
   "dockerImageVersionId": 30822,
   "isGpuEnabled": true,
   "isInternetEnabled": true,
   "language": "python",
   "sourceType": "notebook"
  },
  "kernelspec": {
   "display_name": "Python 3 (ipykernel)",
   "language": "python",
   "name": "python3"
  },
  "language_info": {
   "codemirror_mode": {
    "name": "ipython",
    "version": 3
   },
   "file_extension": ".py",
   "mimetype": "text/x-python",
   "name": "python",
   "nbconvert_exporter": "python",
   "pygments_lexer": "ipython3",
   "version": "3.12.4"
  }
 },
 "nbformat": 4,
 "nbformat_minor": 4
}
